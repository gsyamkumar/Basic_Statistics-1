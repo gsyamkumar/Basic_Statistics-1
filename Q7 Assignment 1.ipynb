{
 "cells": [
  {
   "cell_type": "code",
   "execution_count": 5,
   "id": "b5daa145",
   "metadata": {
    "ExecuteTime": {
     "end_time": "2023-02-19T06:05:15.932232Z",
     "start_time": "2023-02-19T06:05:14.319974Z"
    }
   },
   "outputs": [],
   "source": [
    "import pandas as pd\n",
    "import numpy as np"
   ]
  },
  {
   "cell_type": "code",
   "execution_count": 6,
   "id": "442b1b6c",
   "metadata": {
    "ExecuteTime": {
     "end_time": "2023-02-19T06:05:17.235183Z",
     "start_time": "2023-02-19T06:05:17.202308Z"
    }
   },
   "outputs": [],
   "source": [
    "df = pd.read_csv('Q7.csv')"
   ]
  },
  {
   "cell_type": "code",
   "execution_count": 7,
   "id": "fd1c9a3d",
   "metadata": {
    "ExecuteTime": {
     "end_time": "2023-02-19T06:05:20.451061Z",
     "start_time": "2023-02-19T06:05:20.383912Z"
    }
   },
   "outputs": [
    {
     "data": {
      "text/html": [
       "<div>\n",
       "<style scoped>\n",
       "    .dataframe tbody tr th:only-of-type {\n",
       "        vertical-align: middle;\n",
       "    }\n",
       "\n",
       "    .dataframe tbody tr th {\n",
       "        vertical-align: top;\n",
       "    }\n",
       "\n",
       "    .dataframe thead th {\n",
       "        text-align: right;\n",
       "    }\n",
       "</style>\n",
       "<table border=\"1\" class=\"dataframe\">\n",
       "  <thead>\n",
       "    <tr style=\"text-align: right;\">\n",
       "      <th></th>\n",
       "      <th>Unnamed: 0</th>\n",
       "      <th>Points</th>\n",
       "      <th>Score</th>\n",
       "      <th>Weigh</th>\n",
       "    </tr>\n",
       "  </thead>\n",
       "  <tbody>\n",
       "    <tr>\n",
       "      <th>0</th>\n",
       "      <td>Mazda RX4</td>\n",
       "      <td>3.90</td>\n",
       "      <td>2.620</td>\n",
       "      <td>16.46</td>\n",
       "    </tr>\n",
       "    <tr>\n",
       "      <th>1</th>\n",
       "      <td>Mazda RX4 Wag</td>\n",
       "      <td>3.90</td>\n",
       "      <td>2.875</td>\n",
       "      <td>17.02</td>\n",
       "    </tr>\n",
       "    <tr>\n",
       "      <th>2</th>\n",
       "      <td>Datsun 710</td>\n",
       "      <td>3.85</td>\n",
       "      <td>2.320</td>\n",
       "      <td>18.61</td>\n",
       "    </tr>\n",
       "    <tr>\n",
       "      <th>3</th>\n",
       "      <td>Hornet 4 Drive</td>\n",
       "      <td>3.08</td>\n",
       "      <td>3.215</td>\n",
       "      <td>19.44</td>\n",
       "    </tr>\n",
       "    <tr>\n",
       "      <th>4</th>\n",
       "      <td>Hornet Sportabout</td>\n",
       "      <td>3.15</td>\n",
       "      <td>3.440</td>\n",
       "      <td>17.02</td>\n",
       "    </tr>\n",
       "    <tr>\n",
       "      <th>5</th>\n",
       "      <td>Valiant</td>\n",
       "      <td>2.76</td>\n",
       "      <td>3.460</td>\n",
       "      <td>20.22</td>\n",
       "    </tr>\n",
       "    <tr>\n",
       "      <th>6</th>\n",
       "      <td>Duster 360</td>\n",
       "      <td>3.21</td>\n",
       "      <td>3.570</td>\n",
       "      <td>15.84</td>\n",
       "    </tr>\n",
       "    <tr>\n",
       "      <th>7</th>\n",
       "      <td>Merc 240D</td>\n",
       "      <td>3.69</td>\n",
       "      <td>3.190</td>\n",
       "      <td>20.00</td>\n",
       "    </tr>\n",
       "    <tr>\n",
       "      <th>8</th>\n",
       "      <td>Merc 230</td>\n",
       "      <td>3.92</td>\n",
       "      <td>3.150</td>\n",
       "      <td>22.90</td>\n",
       "    </tr>\n",
       "    <tr>\n",
       "      <th>9</th>\n",
       "      <td>Merc 280</td>\n",
       "      <td>3.92</td>\n",
       "      <td>3.440</td>\n",
       "      <td>18.30</td>\n",
       "    </tr>\n",
       "    <tr>\n",
       "      <th>10</th>\n",
       "      <td>Merc 280C</td>\n",
       "      <td>3.92</td>\n",
       "      <td>3.440</td>\n",
       "      <td>18.90</td>\n",
       "    </tr>\n",
       "    <tr>\n",
       "      <th>11</th>\n",
       "      <td>Merc 450SE</td>\n",
       "      <td>3.07</td>\n",
       "      <td>4.070</td>\n",
       "      <td>17.40</td>\n",
       "    </tr>\n",
       "    <tr>\n",
       "      <th>12</th>\n",
       "      <td>Merc 450SL</td>\n",
       "      <td>3.07</td>\n",
       "      <td>3.730</td>\n",
       "      <td>17.60</td>\n",
       "    </tr>\n",
       "    <tr>\n",
       "      <th>13</th>\n",
       "      <td>Merc 450SLC</td>\n",
       "      <td>3.07</td>\n",
       "      <td>3.780</td>\n",
       "      <td>18.00</td>\n",
       "    </tr>\n",
       "    <tr>\n",
       "      <th>14</th>\n",
       "      <td>Cadillac Fleetwood</td>\n",
       "      <td>2.93</td>\n",
       "      <td>5.250</td>\n",
       "      <td>17.98</td>\n",
       "    </tr>\n",
       "    <tr>\n",
       "      <th>15</th>\n",
       "      <td>Lincoln Continental</td>\n",
       "      <td>3.00</td>\n",
       "      <td>5.424</td>\n",
       "      <td>17.82</td>\n",
       "    </tr>\n",
       "    <tr>\n",
       "      <th>16</th>\n",
       "      <td>Chrysler Imperial</td>\n",
       "      <td>3.23</td>\n",
       "      <td>5.345</td>\n",
       "      <td>17.42</td>\n",
       "    </tr>\n",
       "    <tr>\n",
       "      <th>17</th>\n",
       "      <td>Fiat 128</td>\n",
       "      <td>4.08</td>\n",
       "      <td>2.200</td>\n",
       "      <td>19.47</td>\n",
       "    </tr>\n",
       "    <tr>\n",
       "      <th>18</th>\n",
       "      <td>Honda Civic</td>\n",
       "      <td>4.93</td>\n",
       "      <td>1.615</td>\n",
       "      <td>18.52</td>\n",
       "    </tr>\n",
       "    <tr>\n",
       "      <th>19</th>\n",
       "      <td>Toyota Corolla</td>\n",
       "      <td>4.22</td>\n",
       "      <td>1.835</td>\n",
       "      <td>19.90</td>\n",
       "    </tr>\n",
       "    <tr>\n",
       "      <th>20</th>\n",
       "      <td>Toyota Corona</td>\n",
       "      <td>3.70</td>\n",
       "      <td>2.465</td>\n",
       "      <td>20.01</td>\n",
       "    </tr>\n",
       "    <tr>\n",
       "      <th>21</th>\n",
       "      <td>Dodge Challenger</td>\n",
       "      <td>2.76</td>\n",
       "      <td>3.520</td>\n",
       "      <td>16.87</td>\n",
       "    </tr>\n",
       "    <tr>\n",
       "      <th>22</th>\n",
       "      <td>AMC Javelin</td>\n",
       "      <td>3.15</td>\n",
       "      <td>3.435</td>\n",
       "      <td>17.30</td>\n",
       "    </tr>\n",
       "    <tr>\n",
       "      <th>23</th>\n",
       "      <td>Camaro Z28</td>\n",
       "      <td>3.73</td>\n",
       "      <td>3.840</td>\n",
       "      <td>15.41</td>\n",
       "    </tr>\n",
       "    <tr>\n",
       "      <th>24</th>\n",
       "      <td>Pontiac Firebird</td>\n",
       "      <td>3.08</td>\n",
       "      <td>3.845</td>\n",
       "      <td>17.05</td>\n",
       "    </tr>\n",
       "    <tr>\n",
       "      <th>25</th>\n",
       "      <td>Fiat X1-9</td>\n",
       "      <td>4.08</td>\n",
       "      <td>1.935</td>\n",
       "      <td>18.90</td>\n",
       "    </tr>\n",
       "    <tr>\n",
       "      <th>26</th>\n",
       "      <td>Porsche 914-2</td>\n",
       "      <td>4.43</td>\n",
       "      <td>2.140</td>\n",
       "      <td>16.70</td>\n",
       "    </tr>\n",
       "    <tr>\n",
       "      <th>27</th>\n",
       "      <td>Lotus Europa</td>\n",
       "      <td>3.77</td>\n",
       "      <td>1.513</td>\n",
       "      <td>16.90</td>\n",
       "    </tr>\n",
       "    <tr>\n",
       "      <th>28</th>\n",
       "      <td>Ford Pantera L</td>\n",
       "      <td>4.22</td>\n",
       "      <td>3.170</td>\n",
       "      <td>14.50</td>\n",
       "    </tr>\n",
       "    <tr>\n",
       "      <th>29</th>\n",
       "      <td>Ferrari Dino</td>\n",
       "      <td>3.62</td>\n",
       "      <td>2.770</td>\n",
       "      <td>15.50</td>\n",
       "    </tr>\n",
       "    <tr>\n",
       "      <th>30</th>\n",
       "      <td>Maserati Bora</td>\n",
       "      <td>3.54</td>\n",
       "      <td>3.570</td>\n",
       "      <td>14.60</td>\n",
       "    </tr>\n",
       "    <tr>\n",
       "      <th>31</th>\n",
       "      <td>Volvo 142E</td>\n",
       "      <td>4.11</td>\n",
       "      <td>2.780</td>\n",
       "      <td>18.60</td>\n",
       "    </tr>\n",
       "  </tbody>\n",
       "</table>\n",
       "</div>"
      ],
      "text/plain": [
       "             Unnamed: 0  Points  Score  Weigh\n",
       "0             Mazda RX4    3.90  2.620  16.46\n",
       "1         Mazda RX4 Wag    3.90  2.875  17.02\n",
       "2            Datsun 710    3.85  2.320  18.61\n",
       "3        Hornet 4 Drive    3.08  3.215  19.44\n",
       "4     Hornet Sportabout    3.15  3.440  17.02\n",
       "5               Valiant    2.76  3.460  20.22\n",
       "6            Duster 360    3.21  3.570  15.84\n",
       "7             Merc 240D    3.69  3.190  20.00\n",
       "8              Merc 230    3.92  3.150  22.90\n",
       "9              Merc 280    3.92  3.440  18.30\n",
       "10            Merc 280C    3.92  3.440  18.90\n",
       "11           Merc 450SE    3.07  4.070  17.40\n",
       "12           Merc 450SL    3.07  3.730  17.60\n",
       "13          Merc 450SLC    3.07  3.780  18.00\n",
       "14   Cadillac Fleetwood    2.93  5.250  17.98\n",
       "15  Lincoln Continental    3.00  5.424  17.82\n",
       "16    Chrysler Imperial    3.23  5.345  17.42\n",
       "17             Fiat 128    4.08  2.200  19.47\n",
       "18          Honda Civic    4.93  1.615  18.52\n",
       "19       Toyota Corolla    4.22  1.835  19.90\n",
       "20        Toyota Corona    3.70  2.465  20.01\n",
       "21     Dodge Challenger    2.76  3.520  16.87\n",
       "22          AMC Javelin    3.15  3.435  17.30\n",
       "23           Camaro Z28    3.73  3.840  15.41\n",
       "24     Pontiac Firebird    3.08  3.845  17.05\n",
       "25            Fiat X1-9    4.08  1.935  18.90\n",
       "26        Porsche 914-2    4.43  2.140  16.70\n",
       "27         Lotus Europa    3.77  1.513  16.90\n",
       "28       Ford Pantera L    4.22  3.170  14.50\n",
       "29         Ferrari Dino    3.62  2.770  15.50\n",
       "30        Maserati Bora    3.54  3.570  14.60\n",
       "31           Volvo 142E    4.11  2.780  18.60"
      ]
     },
     "execution_count": 7,
     "metadata": {},
     "output_type": "execute_result"
    }
   ],
   "source": [
    "df\n"
   ]
  },
  {
   "cell_type": "markdown",
   "id": "e7e65c8c",
   "metadata": {},
   "source": [
    "# Mean"
   ]
  },
  {
   "cell_type": "code",
   "execution_count": 4,
   "id": "aab131db",
   "metadata": {
    "ExecuteTime": {
     "end_time": "2023-02-17T06:02:39.425379Z",
     "start_time": "2023-02-17T06:02:39.404438Z"
    }
   },
   "outputs": [
    {
     "data": {
      "text/plain": [
       "3.5965625000000006"
      ]
     },
     "execution_count": 4,
     "metadata": {},
     "output_type": "execute_result"
    }
   ],
   "source": [
    "#Calculating Mean for Points Column\n",
    "df['Points'].mean()"
   ]
  },
  {
   "cell_type": "code",
   "execution_count": 5,
   "id": "3fff0a26",
   "metadata": {
    "ExecuteTime": {
     "end_time": "2023-02-17T06:03:05.151217Z",
     "start_time": "2023-02-17T06:03:05.129276Z"
    }
   },
   "outputs": [
    {
     "data": {
      "text/plain": [
       "3.2172499999999995"
      ]
     },
     "execution_count": 5,
     "metadata": {},
     "output_type": "execute_result"
    }
   ],
   "source": [
    "#Calculating Mean for Score Column\n",
    "df['Score'].mean()"
   ]
  },
  {
   "cell_type": "code",
   "execution_count": 6,
   "id": "965ff439",
   "metadata": {
    "ExecuteTime": {
     "end_time": "2023-02-17T06:03:35.046675Z",
     "start_time": "2023-02-17T06:03:35.027692Z"
    }
   },
   "outputs": [
    {
     "data": {
      "text/plain": [
       "17.848750000000003"
      ]
     },
     "execution_count": 6,
     "metadata": {},
     "output_type": "execute_result"
    }
   ],
   "source": [
    "#Calculating Mean for Weigh Column\n",
    "df['Weigh'].mean()"
   ]
  },
  {
   "cell_type": "markdown",
   "id": "cb097def",
   "metadata": {},
   "source": [
    "# Median"
   ]
  },
  {
   "cell_type": "code",
   "execution_count": 7,
   "id": "e02c2ba5",
   "metadata": {
    "ExecuteTime": {
     "end_time": "2023-02-17T06:06:49.734399Z",
     "start_time": "2023-02-17T06:06:49.713425Z"
    }
   },
   "outputs": [
    {
     "data": {
      "text/plain": [
       "3.6950000000000003"
      ]
     },
     "execution_count": 7,
     "metadata": {},
     "output_type": "execute_result"
    }
   ],
   "source": [
    "#Calculating Median for Points Column\n",
    "df['Points'].median()"
   ]
  },
  {
   "cell_type": "code",
   "execution_count": 9,
   "id": "356d83f9",
   "metadata": {
    "ExecuteTime": {
     "end_time": "2023-02-17T06:07:47.327077Z",
     "start_time": "2023-02-17T06:07:47.313079Z"
    }
   },
   "outputs": [
    {
     "data": {
      "text/plain": [
       "3.325"
      ]
     },
     "execution_count": 9,
     "metadata": {},
     "output_type": "execute_result"
    }
   ],
   "source": [
    "#Calculating Median for Score Column\n",
    "df['Score'].median()"
   ]
  },
  {
   "cell_type": "code",
   "execution_count": 10,
   "id": "972a7ce2",
   "metadata": {
    "ExecuteTime": {
     "end_time": "2023-02-17T06:08:43.014889Z",
     "start_time": "2023-02-17T06:08:42.996937Z"
    }
   },
   "outputs": [
    {
     "data": {
      "text/plain": [
       "17.71"
      ]
     },
     "execution_count": 10,
     "metadata": {},
     "output_type": "execute_result"
    }
   ],
   "source": [
    "#Calculating Median for Weigh Column\n",
    "df['Weigh'].median()"
   ]
  },
  {
   "cell_type": "markdown",
   "id": "ca0f3502",
   "metadata": {},
   "source": [
    "# Mode"
   ]
  },
  {
   "cell_type": "code",
   "execution_count": 11,
   "id": "a651051a",
   "metadata": {
    "ExecuteTime": {
     "end_time": "2023-02-17T06:09:51.637890Z",
     "start_time": "2023-02-17T06:09:51.608965Z"
    }
   },
   "outputs": [
    {
     "data": {
      "text/plain": [
       "0    3.07\n",
       "1    3.92\n",
       "dtype: float64"
      ]
     },
     "execution_count": 11,
     "metadata": {},
     "output_type": "execute_result"
    }
   ],
   "source": [
    "#Calculating Mode for Points Column\n",
    "df['Points'].mode()"
   ]
  },
  {
   "cell_type": "code",
   "execution_count": 12,
   "id": "ebfdd9a0",
   "metadata": {
    "ExecuteTime": {
     "end_time": "2023-02-17T06:10:59.929145Z",
     "start_time": "2023-02-17T06:10:59.904214Z"
    }
   },
   "outputs": [
    {
     "data": {
      "text/plain": [
       "0    3.44\n",
       "dtype: float64"
      ]
     },
     "execution_count": 12,
     "metadata": {},
     "output_type": "execute_result"
    }
   ],
   "source": [
    "#Calculating Mode for Weigh Column\n",
    "df['Score'].mode()"
   ]
  },
  {
   "cell_type": "code",
   "execution_count": 13,
   "id": "fa11141e",
   "metadata": {
    "ExecuteTime": {
     "end_time": "2023-02-17T06:11:23.199267Z",
     "start_time": "2023-02-17T06:11:23.174302Z"
    }
   },
   "outputs": [
    {
     "data": {
      "text/plain": [
       "0    17.02\n",
       "1    18.90\n",
       "dtype: float64"
      ]
     },
     "execution_count": 13,
     "metadata": {},
     "output_type": "execute_result"
    }
   ],
   "source": [
    "#Calculating Mode for Weigh Column\n",
    "df['Weigh'].mode()"
   ]
  },
  {
   "cell_type": "markdown",
   "id": "c7081658",
   "metadata": {},
   "source": [
    "# Variance"
   ]
  },
  {
   "cell_type": "code",
   "execution_count": 14,
   "id": "f0df4980",
   "metadata": {
    "ExecuteTime": {
     "end_time": "2023-02-17T06:13:55.145429Z",
     "start_time": "2023-02-17T06:13:55.121488Z"
    }
   },
   "outputs": [
    {
     "data": {
      "text/plain": [
       "0.28588135080645166"
      ]
     },
     "execution_count": 14,
     "metadata": {},
     "output_type": "execute_result"
    }
   ],
   "source": [
    "#Calculating Variance for Points Column \n",
    "#here variance we call in python code as var\n",
    "df['Points'].var()"
   ]
  },
  {
   "cell_type": "code",
   "execution_count": 15,
   "id": "96beca5d",
   "metadata": {
    "ExecuteTime": {
     "end_time": "2023-02-17T06:14:18.987181Z",
     "start_time": "2023-02-17T06:14:18.967201Z"
    }
   },
   "outputs": [
    {
     "data": {
      "text/plain": [
       "0.9573789677419356"
      ]
     },
     "execution_count": 15,
     "metadata": {},
     "output_type": "execute_result"
    }
   ],
   "source": [
    "#Calculting Variance for Score Column\n",
    "#here variance we call in python code as var\n",
    "df['Score'].var()"
   ]
  },
  {
   "cell_type": "code",
   "execution_count": 16,
   "id": "3cb7cf2f",
   "metadata": {
    "ExecuteTime": {
     "end_time": "2023-02-17T06:16:03.808844Z",
     "start_time": "2023-02-17T06:16:03.791856Z"
    }
   },
   "outputs": [
    {
     "data": {
      "text/plain": [
       "3.193166129032258"
      ]
     },
     "execution_count": 16,
     "metadata": {},
     "output_type": "execute_result"
    }
   ],
   "source": [
    "#Calculaing Variance for Weigh Column\n",
    "#here variance we call in python code as var\n",
    "df['Weigh'].var()"
   ]
  },
  {
   "cell_type": "markdown",
   "id": "219fbadc",
   "metadata": {},
   "source": [
    "# Standard Deviation"
   ]
  },
  {
   "cell_type": "code",
   "execution_count": 18,
   "id": "54e7907c",
   "metadata": {
    "ExecuteTime": {
     "end_time": "2023-02-17T06:27:59.288008Z",
     "start_time": "2023-02-17T06:27:59.274043Z"
    }
   },
   "outputs": [
    {
     "data": {
      "text/plain": [
       "0.5346787360709716"
      ]
     },
     "execution_count": 18,
     "metadata": {},
     "output_type": "execute_result"
    }
   ],
   "source": [
    "#Calculating Standard Deviation for Points Column\n",
    "#here Standard Deviation we call in python code as std\n",
    "df['Points'].std()"
   ]
  },
  {
   "cell_type": "code",
   "execution_count": 19,
   "id": "cc4bd536",
   "metadata": {
    "ExecuteTime": {
     "end_time": "2023-02-17T06:28:17.169485Z",
     "start_time": "2023-02-17T06:28:17.156520Z"
    }
   },
   "outputs": [
    {
     "data": {
      "text/plain": [
       "0.9784574429896967"
      ]
     },
     "execution_count": 19,
     "metadata": {},
     "output_type": "execute_result"
    }
   ],
   "source": [
    "#Calculating Standard Deviation for Score Column\n",
    "#here Standard Deviation we call in python code as std\n",
    "df['Score'].std()"
   ]
  },
  {
   "cell_type": "code",
   "execution_count": 20,
   "id": "b0cf5d8e",
   "metadata": {
    "ExecuteTime": {
     "end_time": "2023-02-17T06:31:21.960596Z",
     "start_time": "2023-02-17T06:31:21.937656Z"
    }
   },
   "outputs": [
    {
     "data": {
      "text/plain": [
       "1.7869432360968431"
      ]
     },
     "execution_count": 20,
     "metadata": {},
     "output_type": "execute_result"
    }
   ],
   "source": [
    "#Calcultaing Standard Deviation for Weigh Column\n",
    "#here Standard Devaition we call in python Code as std\n",
    "df['Weigh'].std()"
   ]
  },
  {
   "cell_type": "markdown",
   "id": "86ed93d8",
   "metadata": {},
   "source": [
    "# Range\n"
   ]
  },
  {
   "cell_type": "code",
   "execution_count": 8,
   "id": "64a50ffa",
   "metadata": {
    "ExecuteTime": {
     "end_time": "2023-02-19T06:05:26.400556Z",
     "start_time": "2023-02-19T06:05:26.379618Z"
    }
   },
   "outputs": [
    {
     "name": "stdout",
     "output_type": "stream",
     "text": [
      "2.76\n",
      "4.93\n"
     ]
    }
   ],
   "source": [
    "#Calculating Range for Points column\n",
    "#Min Value\n",
    "print(df['Points'].min())\n",
    " #Max Value\n",
    "print(df['Points'].max())"
   ]
  },
  {
   "cell_type": "code",
   "execution_count": 9,
   "id": "f007e763",
   "metadata": {
    "ExecuteTime": {
     "end_time": "2023-02-19T06:06:40.139020Z",
     "start_time": "2023-02-19T06:06:40.120073Z"
    }
   },
   "outputs": [
    {
     "name": "stdout",
     "output_type": "stream",
     "text": [
      "1.513\n",
      "5.424\n"
     ]
    }
   ],
   "source": [
    "#Calculating Range for Score column\n",
    "#Min Value\n",
    "print(df['Score'].min())\n",
    " #Max Value\n",
    "print(df['Score'].max())"
   ]
  },
  {
   "cell_type": "code",
   "execution_count": 10,
   "id": "920d8f1a",
   "metadata": {
    "ExecuteTime": {
     "end_time": "2023-02-19T06:06:42.676673Z",
     "start_time": "2023-02-19T06:06:42.661714Z"
    }
   },
   "outputs": [
    {
     "name": "stdout",
     "output_type": "stream",
     "text": [
      "14.5\n",
      "22.9\n"
     ]
    }
   ],
   "source": [
    "#Calculating Range for Weigh column\n",
    "#Min Value\n",
    "print(df['Weigh'].min())\n",
    " #Max Value\n",
    "print(df['Weigh'].max())"
   ]
  },
  {
   "cell_type": "markdown",
   "id": "43a53596",
   "metadata": {},
   "source": [
    "# Visualization \n",
    "   - Histogram\n",
    "   - Boxplot"
   ]
  },
  {
   "cell_type": "markdown",
   "id": "3b2c4566",
   "metadata": {},
   "source": [
    "# -Histogram"
   ]
  },
  {
   "cell_type": "code",
   "execution_count": 22,
   "id": "bedc2ce3",
   "metadata": {
    "ExecuteTime": {
     "end_time": "2023-02-17T06:52:17.857678Z",
     "start_time": "2023-02-17T06:52:16.529952Z"
    }
   },
   "outputs": [],
   "source": [
    "#Now we are importing matplotlib and seaborn libraries \n",
    "import matplotlib.pyplot as plt\n",
    "import seaborn as sns"
   ]
  },
  {
   "cell_type": "code",
   "execution_count": 24,
   "id": "2cdafb49",
   "metadata": {
    "ExecuteTime": {
     "end_time": "2023-02-17T07:03:24.610444Z",
     "start_time": "2023-02-17T07:03:24.324177Z"
    }
   },
   "outputs": [
    {
     "data": {
      "image/png": "[encoded data removed]",
      "text/plain": [
       "<Figure size 432x288 with 1 Axes>"
      ]
     },
     "metadata": {
      "needs_background": "light"
     },
     "output_type": "display_data"
    }
   ],
   "source": [
    "#Creating histogram for Points column\n",
    "plt.title('Histogram of Pionts')\n",
    "plt.hist(df['Points'])\n",
    "plt.show()"
   ]
  },
  {
   "cell_type": "code",
   "execution_count": 25,
   "id": "a35f2f3c",
   "metadata": {
    "ExecuteTime": {
     "end_time": "2023-02-17T07:08:29.935722Z",
     "start_time": "2023-02-17T07:08:29.645333Z"
    }
   },
   "outputs": [
    {
     "data": {
      "image/png": "[encoded data removed]",
      "text/plain": [
       "<Figure size 432x288 with 1 Axes>"
      ]
     },
     "metadata": {
      "needs_background": "light"
     },
     "output_type": "display_data"
    }
   ],
   "source": [
    "#Creating histogram for Score Column\n",
    "plt.title('Histogram of Score')\n",
    "plt.hist(df['Score'])\n",
    "plt.show()"
   ]
  },
  {
   "cell_type": "code",
   "execution_count": 27,
   "id": "b70bd6e5",
   "metadata": {
    "ExecuteTime": {
     "end_time": "2023-02-17T07:12:23.343991Z",
     "start_time": "2023-02-17T07:12:23.090665Z"
    }
   },
   "outputs": [
    {
     "data": {
      "image/png": "[encoded data removed]",
      "text/plain": [
       "<Figure size 432x288 with 1 Axes>"
      ]
     },
     "metadata": {
      "needs_background": "light"
     },
     "output_type": "display_data"
    }
   ],
   "source": [
    "#Creating histogram for Weigh Column\n",
    "plt.title('Histogram of Weigh')\n",
    "plt.hist(df['Weigh'])\n",
    "plt.show()"
   ]
  },
  {
   "cell_type": "markdown",
   "id": "21d24006",
   "metadata": {},
   "source": [
    "# -Boxplot"
   ]
  },
  {
   "cell_type": "code",
   "execution_count": 28,
   "id": "cc54f1bd",
   "metadata": {
    "ExecuteTime": {
     "end_time": "2023-02-17T07:17:02.232964Z",
     "start_time": "2023-02-17T07:17:01.990982Z"
    }
   },
   "outputs": [
    {
     "data": {
      "image/png": "[encoded data removed]",
      "text/plain": [
       "<Figure size 432x288 with 1 Axes>"
      ]
     },
     "metadata": {
      "needs_background": "light"
     },
     "output_type": "display_data"
    }
   ],
   "source": [
    "#Creating Boxplot for Points Column\n",
    "plt.title(\"Boxplot of Points\")\n",
    "plt.boxplot(df['Points'])\n",
    "plt.show()"
   ]
  },
  {
   "cell_type": "code",
   "execution_count": 29,
   "id": "584cdbd4",
   "metadata": {
    "ExecuteTime": {
     "end_time": "2023-02-17T07:19:05.528753Z",
     "start_time": "2023-02-17T07:19:05.316985Z"
    }
   },
   "outputs": [
    {
     "data": {
      "image/png": "[encoded data removed]",
      "text/plain": [
       "<Figure size 432x288 with 1 Axes>"
      ]
     },
     "metadata": {
      "needs_background": "light"
     },
     "output_type": "display_data"
    }
   ],
   "source": [
    "#Creating Boxplot for Score Column\n",
    "plt.title('Boxplot of Score')\n",
    "plt.boxplot(df['Points'])\n",
    "plt.show()"
   ]
  },
  {
   "cell_type": "code",
   "execution_count": 31,
   "id": "6bdf7997",
   "metadata": {
    "ExecuteTime": {
     "end_time": "2023-02-17T07:21:09.832141Z",
     "start_time": "2023-02-17T07:21:09.648528Z"
    }
   },
   "outputs": [
    {
     "data": {
      "image/png": "[encoded data removed]",
      "text/plain": [
       "<Figure size 432x288 with 1 Axes>"
      ]
     },
     "metadata": {
      "needs_background": "light"
     },
     "output_type": "display_data"
    }
   ],
   "source": [
    "#Creating Boxplot for Weigh Column\n",
    "plt.title('Boxplot of Weigh')\n",
    "plt.boxplot(df['Weigh'])\n",
    "plt.show()"
   ]
  },
  {
   "cell_type": "code",
   "execution_count": null,
   "id": "e528420a",
   "metadata": {},
   "outputs": [],
   "source": []
  },
  {
   "cell_type": "code",
   "execution_count": null,
   "id": "74f6befe",
   "metadata": {},
   "outputs": [],
   "source": []
  }
 ],
 "metadata": {
  "kernelspec": {
   "display_name": "Python 3",
   "language": "python",
   "name": "python3"
  },
  "language_info": {
   "codemirror_mode": {
    "name": "ipython",
    "version": 3
   },
   "file_extension": ".py",
   "mimetype": "text/x-python",
   "name": "python",
   "nbconvert_exporter": "python",
   "pygments_lexer": "ipython3",
   "version": "3.8.8"
  }
 },
 "nbformat": 4,
 "nbformat_minor": 5
}
