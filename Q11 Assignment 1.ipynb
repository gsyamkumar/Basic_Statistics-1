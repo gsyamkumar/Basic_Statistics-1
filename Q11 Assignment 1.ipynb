{
 "cells": [
  {
   "cell_type": "code",
   "execution_count": 1,
   "id": "f29d8225",
   "metadata": {
    "ExecuteTime": {
     "end_time": "2023-03-02T14:46:12.998818Z",
     "start_time": "2023-03-02T14:46:11.592135Z"
    }
   },
   "outputs": [],
   "source": [
    "from scipy import stats"
   ]
  },
  {
   "cell_type": "code",
   "execution_count": null,
   "id": "fe58c617",
   "metadata": {},
   "outputs": [],
   "source": [
    "#n = 2000, mean = 200, standard deviation = 30\n",
    "#here we can use both the distributions i.e; z- distribution and t-distribution,\n",
    "#so because the observations are lessthan(≤) 30 oservations\n",
    "#for t-distributions we use \"degrees of freedom(df)\" i.e; df = n-1."
   ]
  },
  {
   "cell_type": "code",
   "execution_count": 7,
   "id": "ac867adf",
   "metadata": {
    "ExecuteTime": {
     "end_time": "2023-03-02T14:54:02.732049Z",
     "start_time": "2023-03-02T14:54:02.702564Z"
    }
   },
   "outputs": [
    {
     "data": {
      "text/plain": [
       "(143.54415570565965, 256.45584429434035)"
      ]
     },
     "execution_count": 7,
     "metadata": {},
     "output_type": "execute_result"
    }
   ],
   "source": [
    "#Calculating the Confidence Interval for 94%\n",
    "stats.t.interval(0.94, 1999, 200, 30)"
   ]
  },
  {
   "cell_type": "code",
   "execution_count": 8,
   "id": "6bb70cdb",
   "metadata": {
    "ExecuteTime": {
     "end_time": "2023-03-02T15:11:05.133662Z",
     "start_time": "2023-03-02T15:11:05.121697Z"
    }
   },
   "outputs": [
    {
     "data": {
      "text/plain": [
       "(130.15355671679083, 269.84644328320917)"
      ]
     },
     "execution_count": 8,
     "metadata": {},
     "output_type": "execute_result"
    }
   ],
   "source": [
    "#Calculating the Confidence Interval for 98%\n",
    "stats.t.interval(0.98, 1999, 200, 30)"
   ]
  },
  {
   "cell_type": "code",
   "execution_count": 9,
   "id": "0a6b98f6",
   "metadata": {
    "ExecuteTime": {
     "end_time": "2023-03-02T15:12:02.338655Z",
     "start_time": "2023-03-02T15:12:02.319708Z"
    }
   },
   "outputs": [
    {
     "data": {
      "text/plain": [
       "(138.34730111522666, 261.6526988847733)"
      ]
     },
     "execution_count": 9,
     "metadata": {},
     "output_type": "execute_result"
    }
   ],
   "source": [
    "#Calculating the Confidence Interval for 96%\n",
    "stats.t.interval(0.96, 1999, 200, 30)"
   ]
  },
  {
   "cell_type": "code",
   "execution_count": null,
   "id": "17294185",
   "metadata": {},
   "outputs": [],
   "source": []
  }
 ],
 "metadata": {
  "kernelspec": {
   "display_name": "Python 3",
   "language": "python",
   "name": "python3"
  },
  "language_info": {
   "codemirror_mode": {
    "name": "ipython",
    "version": 3
   },
   "file_extension": ".py",
   "mimetype": "text/x-python",
   "name": "python",
   "nbconvert_exporter": "python",
   "pygments_lexer": "ipython3",
   "version": "3.8.8"
  }
 },
 "nbformat": 4,
 "nbformat_minor": 5
}
