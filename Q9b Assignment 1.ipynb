{
 "cells": [
  {
   "cell_type": "code",
   "execution_count": 1,
   "id": "7a548114",
   "metadata": {
    "ExecuteTime": {
     "end_time": "2023-02-19T07:02:50.332021Z",
     "start_time": "2023-02-19T07:02:49.423585Z"
    }
   },
   "outputs": [],
   "source": [
    "import pandas as pd\n",
    "import numpy as np"
   ]
  },
  {
   "cell_type": "code",
   "execution_count": 2,
   "id": "6ccfff42",
   "metadata": {
    "ExecuteTime": {
     "end_time": "2023-02-19T07:03:31.435081Z",
     "start_time": "2023-02-19T07:03:31.393194Z"
    }
   },
   "outputs": [],
   "source": [
    "df = pd.read_csv('Q9_b.csv')"
   ]
  },
  {
   "cell_type": "code",
   "execution_count": 3,
   "id": "0f4653fb",
   "metadata": {
    "ExecuteTime": {
     "end_time": "2023-02-19T07:03:34.161411Z",
     "start_time": "2023-02-19T07:03:34.099576Z"
    }
   },
   "outputs": [
    {
     "data": {
      "text/html": [
       "<div>\n",
       "<style scoped>\n",
       "    .dataframe tbody tr th:only-of-type {\n",
       "        vertical-align: middle;\n",
       "    }\n",
       "\n",
       "    .dataframe tbody tr th {\n",
       "        vertical-align: top;\n",
       "    }\n",
       "\n",
       "    .dataframe thead th {\n",
       "        text-align: right;\n",
       "    }\n",
       "</style>\n",
       "<table border=\"1\" class=\"dataframe\">\n",
       "  <thead>\n",
       "    <tr style=\"text-align: right;\">\n",
       "      <th></th>\n",
       "      <th>Unnamed: 0</th>\n",
       "      <th>SP</th>\n",
       "      <th>WT</th>\n",
       "    </tr>\n",
       "  </thead>\n",
       "  <tbody>\n",
       "    <tr>\n",
       "      <th>0</th>\n",
       "      <td>1</td>\n",
       "      <td>104.185353</td>\n",
       "      <td>28.762059</td>\n",
       "    </tr>\n",
       "    <tr>\n",
       "      <th>1</th>\n",
       "      <td>2</td>\n",
       "      <td>105.461264</td>\n",
       "      <td>30.466833</td>\n",
       "    </tr>\n",
       "    <tr>\n",
       "      <th>2</th>\n",
       "      <td>3</td>\n",
       "      <td>105.461264</td>\n",
       "      <td>30.193597</td>\n",
       "    </tr>\n",
       "    <tr>\n",
       "      <th>3</th>\n",
       "      <td>4</td>\n",
       "      <td>113.461264</td>\n",
       "      <td>30.632114</td>\n",
       "    </tr>\n",
       "    <tr>\n",
       "      <th>4</th>\n",
       "      <td>5</td>\n",
       "      <td>104.461264</td>\n",
       "      <td>29.889149</td>\n",
       "    </tr>\n",
       "    <tr>\n",
       "      <th>...</th>\n",
       "      <td>...</td>\n",
       "      <td>...</td>\n",
       "      <td>...</td>\n",
       "    </tr>\n",
       "    <tr>\n",
       "      <th>76</th>\n",
       "      <td>77</td>\n",
       "      <td>169.598513</td>\n",
       "      <td>16.132947</td>\n",
       "    </tr>\n",
       "    <tr>\n",
       "      <th>77</th>\n",
       "      <td>78</td>\n",
       "      <td>150.576579</td>\n",
       "      <td>37.923113</td>\n",
       "    </tr>\n",
       "    <tr>\n",
       "      <th>78</th>\n",
       "      <td>79</td>\n",
       "      <td>151.598513</td>\n",
       "      <td>15.769625</td>\n",
       "    </tr>\n",
       "    <tr>\n",
       "      <th>79</th>\n",
       "      <td>80</td>\n",
       "      <td>167.944460</td>\n",
       "      <td>39.423099</td>\n",
       "    </tr>\n",
       "    <tr>\n",
       "      <th>80</th>\n",
       "      <td>81</td>\n",
       "      <td>139.840817</td>\n",
       "      <td>34.948615</td>\n",
       "    </tr>\n",
       "  </tbody>\n",
       "</table>\n",
       "<p>81 rows × 3 columns</p>\n",
       "</div>"
      ],
      "text/plain": [
       "    Unnamed: 0          SP         WT\n",
       "0            1  104.185353  28.762059\n",
       "1            2  105.461264  30.466833\n",
       "2            3  105.461264  30.193597\n",
       "3            4  113.461264  30.632114\n",
       "4            5  104.461264  29.889149\n",
       "..         ...         ...        ...\n",
       "76          77  169.598513  16.132947\n",
       "77          78  150.576579  37.923113\n",
       "78          79  151.598513  15.769625\n",
       "79          80  167.944460  39.423099\n",
       "80          81  139.840817  34.948615\n",
       "\n",
       "[81 rows x 3 columns]"
      ]
     },
     "execution_count": 3,
     "metadata": {},
     "output_type": "execute_result"
    }
   ],
   "source": [
    "df"
   ]
  },
  {
   "cell_type": "markdown",
   "id": "1528cd4f",
   "metadata": {},
   "source": [
    "# Skewness"
   ]
  },
  {
   "cell_type": "code",
   "execution_count": 4,
   "id": "eb12261a",
   "metadata": {
    "ExecuteTime": {
     "end_time": "2023-02-19T07:30:38.482138Z",
     "start_time": "2023-02-19T07:30:38.463187Z"
    }
   },
   "outputs": [
    {
     "data": {
      "text/plain": [
       "1.6114501961773586"
      ]
     },
     "execution_count": 4,
     "metadata": {},
     "output_type": "execute_result"
    }
   ],
   "source": [
    "#Creating Skewness for SP Column\n",
    "df['SP'].skew()"
   ]
  },
  {
   "cell_type": "code",
   "execution_count": 5,
   "id": "af3f69be",
   "metadata": {
    "ExecuteTime": {
     "end_time": "2023-02-19T07:31:29.833644Z",
     "start_time": "2023-02-19T07:31:29.822673Z"
    }
   },
   "outputs": [
    {
     "data": {
      "text/plain": [
       "-0.6147533255357768"
      ]
     },
     "execution_count": 5,
     "metadata": {},
     "output_type": "execute_result"
    }
   ],
   "source": [
    "#Creating Skewness for WT Column\n",
    "df['WT'].skew()"
   ]
  },
  {
   "cell_type": "markdown",
   "id": "80fd6158",
   "metadata": {},
   "source": [
    "# Kurtosis"
   ]
  },
  {
   "cell_type": "code",
   "execution_count": 6,
   "id": "13011d9b",
   "metadata": {
    "ExecuteTime": {
     "end_time": "2023-02-19T07:33:35.437003Z",
     "start_time": "2023-02-19T07:33:35.425070Z"
    }
   },
   "outputs": [
    {
     "data": {
      "text/plain": [
       "1.6114501961773586"
      ]
     },
     "execution_count": 6,
     "metadata": {},
     "output_type": "execute_result"
    }
   ],
   "source": [
    "#Creating Kurtosis for SP Column \n",
    "df['SP'].skew()"
   ]
  },
  {
   "cell_type": "code",
   "execution_count": 7,
   "id": "b578bb16",
   "metadata": {
    "ExecuteTime": {
     "end_time": "2023-02-19T07:34:24.216063Z",
     "start_time": "2023-02-19T07:34:24.195086Z"
    }
   },
   "outputs": [
    {
     "data": {
      "text/plain": [
       "-0.6147533255357768"
      ]
     },
     "execution_count": 7,
     "metadata": {},
     "output_type": "execute_result"
    }
   ],
   "source": [
    "#Creating Kurtosis for WT Column\n",
    "df['WT'].skew()"
   ]
  },
  {
   "cell_type": "markdown",
   "id": "ab5eb130",
   "metadata": {},
   "source": [
    "# Visulaization\n",
    "   - Histogram\n",
    "   - Boxplot"
   ]
  },
  {
   "cell_type": "markdown",
   "id": "fee89539",
   "metadata": {},
   "source": [
    "# -Histogram"
   ]
  },
  {
   "cell_type": "code",
   "execution_count": 8,
   "id": "4118647b",
   "metadata": {
    "ExecuteTime": {
     "end_time": "2023-02-19T07:37:37.369714Z",
     "start_time": "2023-02-19T07:37:35.748541Z"
    }
   },
   "outputs": [],
   "source": [
    "#Now importing matplotlib and seaborn libraries\n",
    "import matplotlib.pylab as plt\n",
    "import seaborn as sns"
   ]
  },
  {
   "cell_type": "code",
   "execution_count": 9,
   "id": "f8ef3cca",
   "metadata": {
    "ExecuteTime": {
     "end_time": "2023-02-19T07:40:09.426692Z",
     "start_time": "2023-02-19T07:40:09.079859Z"
    }
   },
   "outputs": [
    {
     "data": {
      "image/png": "[encoded data removed]",
      "text/plain": [
       "<Figure size 432x288 with 1 Axes>"
      ]
     },
     "metadata": {
      "needs_background": "light"
     },
     "output_type": "display_data"
    }
   ],
   "source": [
    "#Creating histogram for SP Column\n",
    "plt.title('Histogram of SP')\n",
    "plt.hist(df['SP'])\n",
    "plt.show()"
   ]
  },
  {
   "cell_type": "code",
   "execution_count": 10,
   "id": "352f26c9",
   "metadata": {
    "ExecuteTime": {
     "end_time": "2023-02-19T07:41:39.925274Z",
     "start_time": "2023-02-19T07:41:39.645552Z"
    }
   },
   "outputs": [
    {
     "data": {
      "image/png": "[encoded data removed]",
      "text/plain": [
       "<Figure size 432x288 with 1 Axes>"
      ]
     },
     "metadata": {
      "needs_background": "light"
     },
     "output_type": "display_data"
    }
   ],
   "source": [
    "#Creating hsitogram for WT Column\n",
    "plt.title('Histogram of WT')\n",
    "plt.hist(df['WT'])\n",
    "plt.show()"
   ]
  },
  {
   "cell_type": "markdown",
   "id": "2a85d74c",
   "metadata": {},
   "source": [
    "# Boxplot"
   ]
  },
  {
   "cell_type": "code",
   "execution_count": 11,
   "id": "f31c35f9",
   "metadata": {
    "ExecuteTime": {
     "end_time": "2023-02-19T07:43:52.898227Z",
     "start_time": "2023-02-19T07:43:52.661784Z"
    }
   },
   "outputs": [
    {
     "data": {
      "image/png": "[encoded data removed]",
      "text/plain": [
       "<Figure size 432x288 with 1 Axes>"
      ]
     },
     "metadata": {
      "needs_background": "light"
     },
     "output_type": "display_data"
    }
   ],
   "source": [
    "#Creating Boxplot for SP COlumn\n",
    "plt.title('Boxplot of SP')\n",
    "plt.boxplot(df['SP'])\n",
    "plt.show()\n"
   ]
  },
  {
   "cell_type": "code",
   "execution_count": 12,
   "id": "ae45a874",
   "metadata": {
    "ExecuteTime": {
     "end_time": "2023-02-19T07:46:03.412158Z",
     "start_time": "2023-02-19T07:46:03.177783Z"
    }
   },
   "outputs": [
    {
     "data": {
      "image/png": "[encoded data removed]",
      "text/plain": [
       "<Figure size 432x288 with 1 Axes>"
      ]
     },
     "metadata": {
      "needs_background": "light"
     },
     "output_type": "display_data"
    }
   ],
   "source": [
    "#Creating Boxplot for WT Column\n",
    "plt.title('Boxplot of WT')\n",
    "plt.boxplot(df['WT'])\n",
    "plt.show()"
   ]
  },
  {
   "cell_type": "code",
   "execution_count": null,
   "id": "b13b4754",
   "metadata": {},
   "outputs": [],
   "source": []
  }
 ],
 "metadata": {
  "kernelspec": {
   "display_name": "Python 3",
   "language": "python",
   "name": "python3"
  },
  "language_info": {
   "codemirror_mode": {
    "name": "ipython",
    "version": 3
   },
   "file_extension": ".py",
   "mimetype": "text/x-python",
   "name": "python",
   "nbconvert_exporter": "python",
   "pygments_lexer": "ipython3",
   "version": "3.8.8"
  }
 },
 "nbformat": 4,
 "nbformat_minor": 5
}
